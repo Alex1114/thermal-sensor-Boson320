{
 "cells": [
  {
   "cell_type": "code",
   "execution_count": null,
   "metadata": {},
   "outputs": [],
   "source": [
    "import os"
   ]
  },
  {
   "cell_type": "code",
   "execution_count": null,
   "metadata": {},
   "outputs": [],
   "source": [
    "rgb_path = \"/home/alex/Dataset/SubT/Urban/SubT_urban_real_dataset/Mask/images\"\n",
    "depth_path = \"/home/alex/Dataset/SubT/Urban/SubT_urban_real_dataset/Mask/depth\"\n",
    "thermal_path = \"/home/alex/Dataset/SubT/Urban/SubT_urban_real_dataset/Mask/thermal\"\n",
    "obj_list = os.listdir(rgb_path)\n",
    "for obj in obj_list:\n",
    "    rgb = obj.split('.')[0]+'.jpg'\n",
    "    depth = obj.split('.')[0]+'.png'\n",
    "    thermal = obj.split('.')[0]+'.png'\n",
    "    rgb_name = rgb_path + \"/\" + rgb\n",
    "    depth_name = depth_path + \"/\" + depth\n",
    "    thermal_name = thermal_path + \"/\" + thermal\n",
    "    os.system(\"./example /home/alex/thermal_sensor/cali_thermal/align_thermal_to_rgb/bin/camera_model.txt /home/alex/thermal_sensor/cali_thermal/ros/rgb_intrinsic_file.txt \" + str(rgb_name) + \" \" + str(depth_name) + \" \" + str(thermal_name) + \" \" + \"1\")\n",
    "    print(thermal_name)"
   ]
  },
  {
   "cell_type": "code",
   "execution_count": null,
   "metadata": {},
   "outputs": [],
   "source": []
  },
  {
   "cell_type": "code",
   "execution_count": null,
   "metadata": {},
   "outputs": [],
   "source": []
  },
  {
   "cell_type": "code",
   "execution_count": null,
   "metadata": {},
   "outputs": [],
   "source": []
  }
 ],
 "metadata": {
  "kernelspec": {
   "display_name": "Python 3",
   "language": "python",
   "name": "python3"
  },
  "language_info": {
   "codemirror_mode": {
    "name": "ipython",
    "version": 3
   },
   "file_extension": ".py",
   "mimetype": "text/x-python",
   "name": "python",
   "nbconvert_exporter": "python",
   "pygments_lexer": "ipython3",
   "version": "3.6.9"
  }
 },
 "nbformat": 4,
 "nbformat_minor": 2
}
